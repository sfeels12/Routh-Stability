{
 "cells": [
  {
   "attachments": {},
   "cell_type": "markdown",
   "metadata": {},
   "source": [
    "**Tugas Sistem Kendali - Kestabilan Routh**\n",
    "---\n",
    "Skolastika Felicia Siswanto - 21/477948/PA/20719"
   ]
  },
  {
   "cell_type": "code",
   "execution_count": 13,
   "metadata": {},
   "outputs": [],
   "source": [
    "import sympy\n",
    "from tbcontrol.symbolic import routh\n",
    "\n",
    "s = sympy.Symbol('s')\n",
    "K = sympy.Symbol('K')"
   ]
  },
  {
   "cell_type": "code",
   "execution_count": 14,
   "metadata": {},
   "outputs": [
    {
     "name": "stdout",
     "output_type": "stream",
     "text": [
      "1. Nilai polinomial: 7*s^7 + 3*s^6 + 6*s^5 + 4*s^4 + 5*s^3 + 2*s^2 + s + K\n"
     ]
    },
    {
     "data": {
      "text/latex": [
       "$\\displaystyle \\operatorname{Poly}{\\left( 7 s^{7} + 3 s^{6} + 6 s^{5} + 4 s^{4} + 5 s^{3} + 2 s^{2} + s + K, s, domain=\\mathbb{Z}\\left[K\\right] \\right)}$"
      ],
      "text/plain": [
       "Poly(7*s**7 + 3*s**6 + 6*s**5 + 4*s**4 + 5*s**3 + 2*s**2 + s + K, s, domain='ZZ[K]')"
      ]
     },
     "execution_count": 14,
     "metadata": {},
     "output_type": "execute_result"
    }
   ],
   "source": [
    "print(\"1. Nilai polinomial: 7*s^7 + 3*s^6 + 6*s^5 + 4*s^4 + 5*s^3 + 2*s^2 + s + K\")\n",
    "p = 7*s**7 + 3*s**6 + 6*s**5 + 4*s**4 + 5*s**3 + 2*s**2 + s + K\n",
    "p = sympy.Poly(p, s)\n",
    "p"
   ]
  },
  {
   "cell_type": "code",
   "execution_count": 15,
   "metadata": {},
   "outputs": [
    {
     "name": "stdout",
     "output_type": "stream",
     "text": [
      "Tabel Routh: \n"
     ]
    },
    {
     "data": {
      "text/latex": [
       "$\\displaystyle \\left[\\begin{matrix}7 & 6 & 5 & 1\\\\3 & 4 & 2 & K\\\\- \\frac{10}{3} & \\frac{1}{3} & 1 - \\frac{7 K}{3} & 0\\\\\\frac{43}{10} & \\frac{29}{10} - \\frac{21 K}{10} & K & 0\\\\\\frac{111}{43} - \\frac{70 K}{43} & 1 - \\frac{67 K}{43} & 0 & 0\\\\\\frac{- 147 K^{2} + 148 K - 137}{70 K - 111} & K & 0 & 0\\\\\\frac{- 343 K^{3} + 739 K^{2} - 648 K + 137}{147 K^{2} - 148 K + 137} & 0 & 0 & 0\\\\K & 0 & 0 & 0\\end{matrix}\\right]$"
      ],
      "text/plain": [
       "Matrix([\n",
       "[                                                            7,               6,         5, 1],\n",
       "[                                                            3,               4,         2, K],\n",
       "[                                                        -10/3,             1/3, 1 - 7*K/3, 0],\n",
       "[                                                        43/10, 29/10 - 21*K/10,         K, 0],\n",
       "[                                             111/43 - 70*K/43,     1 - 67*K/43,         0, 0],\n",
       "[                       (-147*K**2 + 148*K - 137)/(70*K - 111),               K,         0, 0],\n",
       "[(-343*K**3 + 739*K**2 - 648*K + 137)/(147*K**2 - 148*K + 137),               0,         0, 0],\n",
       "[                                                            K,               0,         0, 0]])"
      ]
     },
     "execution_count": 15,
     "metadata": {},
     "output_type": "execute_result"
    }
   ],
   "source": [
    "print(\"Tabel Routh: \")\n",
    "R = routh(sympy.Poly(p, s))\n",
    "R"
   ]
  },
  {
   "cell_type": "code",
   "execution_count": 16,
   "metadata": {},
   "outputs": [
    {
     "name": "stdout",
     "output_type": "stream",
     "text": [
      "Didapat nilai K: \n"
     ]
    },
    {
     "data": {
      "text/latex": [
       "$\\displaystyle \\text{False}$"
      ],
      "text/plain": [
       "False"
      ]
     },
     "execution_count": 16,
     "metadata": {},
     "output_type": "execute_result"
    }
   ],
   "source": [
    "print(\"Didapat nilai K: \")\n",
    "sympy.solve([e > 0 for e in R[:, 0]], K)"
   ]
  },
  {
   "cell_type": "code",
   "execution_count": 17,
   "metadata": {},
   "outputs": [
    {
     "name": "stdout",
     "output_type": "stream",
     "text": [
      "2. Nilai Polinomial: 4*s^4 + 3*s^3 + 2*s^2 + s + 7\n"
     ]
    },
    {
     "data": {
      "text/latex": [
       "$\\displaystyle \\operatorname{Poly}{\\left( 4 s^{4} + 3 s^{3} + 2 s^{2} + s + 7, s, domain=\\mathbb{Z} \\right)}$"
      ],
      "text/plain": [
       "Poly(4*s**4 + 3*s**3 + 2*s**2 + s + 7, s, domain='ZZ')"
      ]
     },
     "execution_count": 17,
     "metadata": {},
     "output_type": "execute_result"
    }
   ],
   "source": [
    "print(\"2. Nilai Polinomial: 4*s^4 + 3*s^3 + 2*s^2 + s + 7\")\n",
    "p = 4*s**4 + 3*s**3 + 2*s**2 +  s + 7\n",
    "p = sympy.Poly(p, s)\n",
    "p"
   ]
  },
  {
   "cell_type": "code",
   "execution_count": 18,
   "metadata": {},
   "outputs": [
    {
     "name": "stdout",
     "output_type": "stream",
     "text": [
      "Tabel Routh: \n"
     ]
    },
    {
     "data": {
      "text/latex": [
       "$\\displaystyle \\left[\\begin{matrix}4 & 2 & 7\\\\3 & 1 & 0\\\\\\frac{2}{3} & 7 & 0\\\\- \\frac{61}{2} & 0 & 0\\\\7 & 0 & 0\\end{matrix}\\right]$"
      ],
      "text/plain": [
       "Matrix([\n",
       "[    4, 2, 7],\n",
       "[    3, 1, 0],\n",
       "[  2/3, 7, 0],\n",
       "[-61/2, 0, 0],\n",
       "[    7, 0, 0]])"
      ]
     },
     "execution_count": 18,
     "metadata": {},
     "output_type": "execute_result"
    }
   ],
   "source": [
    "print(\"Tabel Routh: \")\n",
    "R = routh(sympy.Poly(p, s))\n",
    "R"
   ]
  },
  {
   "cell_type": "code",
   "execution_count": 19,
   "metadata": {},
   "outputs": [
    {
     "name": "stdout",
     "output_type": "stream",
     "text": [
      "Didapatkan nilai K: \n"
     ]
    },
    {
     "data": {
      "text/plain": [
       "[]"
      ]
     },
     "execution_count": 19,
     "metadata": {},
     "output_type": "execute_result"
    }
   ],
   "source": [
    "print(\"Didapatkan nilai K: \")\n",
    "sympy.solve([e > 0 for e in R[:, 0]], K)"
   ]
  }
 ],
 "metadata": {
  "kernelspec": {
   "display_name": "Python 3",
   "language": "python",
   "name": "python3"
  },
  "language_info": {
   "codemirror_mode": {
    "name": "ipython",
    "version": 3
   },
   "file_extension": ".py",
   "mimetype": "text/x-python",
   "name": "python",
   "nbconvert_exporter": "python",
   "pygments_lexer": "ipython3",
   "version": "3.10.4"
  },
  "orig_nbformat": 4,
  "vscode": {
   "interpreter": {
    "hash": "4e8c28b1570d956b801858318740109dd90da8c0e8a3864169c9311f47e05292"
   }
  }
 },
 "nbformat": 4,
 "nbformat_minor": 2
}
